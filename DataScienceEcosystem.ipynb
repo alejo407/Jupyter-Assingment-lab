{
 "cells": [
  {
   "cell_type": "markdown",
   "id": "f0e31967-a6f9-41dd-9647-43c48ae03d75",
   "metadata": {},
   "source": [
    "# Data Science Tools and Ecosystem "
   ]
  },
  {
   "cell_type": "markdown",
   "id": "a291da96-c830-4c1a-8d1c-27e44f9ad9af",
   "metadata": {},
   "source": [
    "In this notebook, Data Science Tools and Ecosystem are summarized."
   ]
  },
  {
   "cell_type": "markdown",
   "id": "826c6772-b340-4fc0-b44a-3f5750b311d4",
   "metadata": {},
   "source": [
    "# Objectives:\n",
    "* List popular languages for Data Science\n",
    "* List Some of the commonly used libraries used by Data Scientists\n",
    "* Create a table with three development environment open source tools "
   ]
  },
  {
   "cell_type": "markdown",
   "id": "475d3acc-cae4-434d-85f5-f682409b5c1f",
   "metadata": {},
   "source": [
    "Some of the popular languages that Data Scientists use are:\n",
    "\n",
    "- Python\n",
    "- R\n",
    "- SQL"
   ]
  },
  {
   "cell_type": "markdown",
   "id": "6b18a54f-3c32-4339-812e-c34a965c8000",
   "metadata": {},
   "source": [
    "Some of the commonly used libraries used by Data Scientists include:\n",
    "- Numpy\n",
    "- Pandas\n",
    "- matplotlib\n",
    "- scikit-learn"
   ]
  },
  {
   "cell_type": "markdown",
   "id": "d9eb6d3d-2e14-415d-8736-4e51c869b963",
   "metadata": {},
   "source": [
    "| Data Science Tools |\n",
    "| -------------------| \n",
    "| RStudio            | \n",
    "| Apache Spark       | \n",
    "| Apache Hadoop      | "
   ]
  },
  {
   "cell_type": "markdown",
   "id": "de2a7017-0fe9-49e8-a0b9-f26afbbe5785",
   "metadata": {},
   "source": [
    "### Below are a few examples of evaluating arithmetic expressions in Python.\n",
    "\n"
   ]
  },
  {
   "cell_type": "code",
   "execution_count": 17,
   "id": "5f39a4ec-1ddb-491e-a623-aa483f238eed",
   "metadata": {},
   "outputs": [
    {
     "data": {
      "text/plain": [
       "17"
      ]
     },
     "execution_count": 17,
     "metadata": {},
     "output_type": "execute_result"
    }
   ],
   "source": [
    "##  This a simple arithmetic expression to mutiply then add integers\n",
    "(3*4)+5"
   ]
  },
  {
   "cell_type": "code",
   "execution_count": 18,
   "id": "5d132939-9796-4e42-b838-9877098717ec",
   "metadata": {},
   "outputs": [
    {
     "data": {
      "text/plain": [
       "3.3333333333333335"
      ]
     },
     "execution_count": 18,
     "metadata": {},
     "output_type": "execute_result"
    }
   ],
   "source": [
    "##  This will convert 200 minutes to hours by diving by 60\n",
    "200/60"
   ]
  },
  {
   "cell_type": "markdown",
   "id": "d9e33bae-4076-4836-afaa-95704ca8a2fe",
   "metadata": {},
   "source": [
    "## Author \n",
    "Alejandro Agudelo"
   ]
  },
  {
   "cell_type": "code",
   "execution_count": null,
   "id": "38113f91-e568-4937-aa4d-ddef1bc53bdb",
   "metadata": {},
   "outputs": [],
   "source": []
  }
 ],
 "metadata": {
  "kernelspec": {
   "display_name": "Python [conda env:base] *",
   "language": "python",
   "name": "conda-base-py"
  },
  "language_info": {
   "codemirror_mode": {
    "name": "ipython",
    "version": 3
   },
   "file_extension": ".py",
   "mimetype": "text/x-python",
   "name": "python",
   "nbconvert_exporter": "python",
   "pygments_lexer": "ipython3",
   "version": "3.12.7"
  }
 },
 "nbformat": 4,
 "nbformat_minor": 5
}
